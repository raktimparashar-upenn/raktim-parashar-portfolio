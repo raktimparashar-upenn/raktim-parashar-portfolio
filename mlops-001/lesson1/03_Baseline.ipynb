{
  "cells": [
    {
      "cell_type": "markdown",
      "metadata": {
        "id": "JRt470Za2HrK"
      },
      "source": [
        "<a href=\"https://colab.research.google.com/github/wandb/edu/blob/main/mlops-001/lesson1/03_Baseline.ipynb\" target=\"_parent\"><img src=\"https://colab.research.google.com/assets/colab-badge.svg\" alt=\"Open In Colab\"/></a>\n",
        "<!--- @wandbcode{course-lesson1} -->"
      ],
      "id": "JRt470Za2HrK"
    },
    {
      "cell_type": "code",
      "execution_count": null,
      "id": "76b1a803",
      "metadata": {
        "id": "76b1a803"
      },
      "outputs": [],
      "source": [
        "# Install dependencies (run once)\n",
        "!wget https://raw.githubusercontent.com/wandb/edu/main/mlops-001/lesson1/requirements.txt\n",
        "!wget https://raw.githubusercontent.com/wandb/edu/main/mlops-001/lesson1/params.py\n",
        "!wget https://raw.githubusercontent.com/wandb/edu/main/mlops-001/lesson1/utils.py\n",
        "!pip install -r requirements.txt"
      ]
    },
    {
      "cell_type": "markdown",
      "id": "4723ae62-c55d-4c8f-9157-43c29189a2ff",
      "metadata": {
        "id": "4723ae62-c55d-4c8f-9157-43c29189a2ff"
      },
      "source": [
        "# Baseline solution\n",
        "\n",
        "<!--- @wandbcode{course-lesson1} -->\n",
        "\n",
        "In this notebook we will create a baseline solution to our semantic segmentation problem. To iterate fast a notebook is a handy solution. We will then refactor this code into a script to be able to use hyperparameter sweeps."
      ]
    },
    {
      "cell_type": "code",
      "execution_count": null,
      "id": "29116dec",
      "metadata": {
        "id": "29116dec"
      },
      "outputs": [],
      "source": [
        "import wandb\n",
        "import pandas as pd\n",
        "from fastai.vision.all import *\n",
        "from fastai.callback.wandb import WandbCallback\n",
        "\n",
        "import params\n",
        "from utils import get_predictions, create_iou_table, MIOU, BackgroundIOU, \\\n",
        "                  RoadIOU, TrafficLightIOU, TrafficSignIOU, PersonIOU, VehicleIOU, BicycleIOU"
      ]
    },
    {
      "cell_type": "markdown",
      "id": "6e0871e5-c07d-4a8b-817b-388c2e9bf7d1",
      "metadata": {
        "id": "6e0871e5-c07d-4a8b-817b-388c2e9bf7d1"
      },
      "source": [
        "Again, we're importing some global configuration parameters from `params.py` file. We have also defined some helper functions in `utils.py` - for example metrics we will track during our experiments.\n",
        "\n",
        "Let's now create a `train_config` that we'll pass to W&B `run` to control training hyperparameters."
      ]
    },
    {
      "cell_type": "code",
      "execution_count": null,
      "id": "cff6b8ee",
      "metadata": {
        "id": "cff6b8ee"
      },
      "outputs": [],
      "source": [
        "train_config = SimpleNamespace(\n",
        "    framework=\"fastai\",\n",
        "    img_size=(180, 320),\n",
        "    batch_size=8,\n",
        "    augment=True, # use data augmentation\n",
        "    epochs=10,\n",
        "    lr=2e-3,\n",
        "    pretrained=True,  # whether to use pretrained encoder\n",
        "    seed=42,\n",
        ")"
      ]
    },
    {
      "cell_type": "markdown",
      "id": "38f014f3-d78f-4f5b-b038-d8020de43930",
      "metadata": {
        "id": "38f014f3-d78f-4f5b-b038-d8020de43930"
      },
      "source": [
        "We are setting seed for reproducibility."
      ]
    },
    {
      "cell_type": "code",
      "execution_count": null,
      "id": "fc6765f6",
      "metadata": {
        "id": "fc6765f6"
      },
      "outputs": [],
      "source": [
        "set_seed(train_config.seed, reproducible=True)"
      ]
    },
    {
      "cell_type": "code",
      "execution_count": null,
      "id": "32483e4d",
      "metadata": {
        "id": "32483e4d"
      },
      "outputs": [],
      "source": [
        "run = wandb.init(project=params.WANDB_PROJECT, entity=params.ENTITY, job_type=\"training\", config=train_config)"
      ]
    },
    {
      "cell_type": "markdown",
      "id": "be7c1872-fc08-4304-9842-203d9ac45371",
      "metadata": {
        "id": "be7c1872-fc08-4304-9842-203d9ac45371"
      },
      "source": [
        "As usual, we will use W&B Artifacts to track the lineage of our models."
      ]
    },
    {
      "cell_type": "code",
      "execution_count": null,
      "id": "df839467",
      "metadata": {
        "id": "df839467"
      },
      "outputs": [],
      "source": [
        "processed_data_at = run.use_artifact(f'{params.PROCESSED_DATA_AT}:latest')\n",
        "processed_dataset_dir = Path(processed_data_at.download())\n",
        "df = pd.read_csv(processed_dataset_dir / 'data_split.csv')"
      ]
    },
    {
      "cell_type": "markdown",
      "id": "77170345-96d3-4371-a4e9-5ea3b15e2cdb",
      "metadata": {
        "id": "77170345-96d3-4371-a4e9-5ea3b15e2cdb"
      },
      "source": [
        "We will not use the hold out dataset stage at this moment. `is_valid` column will tell our trainer how we want to split data between training and validation."
      ]
    },
    {
      "cell_type": "code",
      "execution_count": null,
      "id": "5a34e1d7",
      "metadata": {
        "id": "5a34e1d7"
      },
      "outputs": [],
      "source": [
        "df = df[df.Stage != 'test'].reset_index(drop=True)\n",
        "df['is_valid'] = df.Stage == 'valid'"
      ]
    },
    {
      "cell_type": "code",
      "execution_count": null,
      "id": "65ae3d60",
      "metadata": {
        "id": "65ae3d60"
      },
      "outputs": [],
      "source": [
        "def label_func(fname):\n",
        "    return (fname.parent.parent/\"labels\")/f\"{fname.stem}_mask.png\""
      ]
    },
    {
      "cell_type": "markdown",
      "id": "e7fb25d8-50b0-4c14-9d52-d14725e024c9",
      "metadata": {
        "id": "e7fb25d8-50b0-4c14-9d52-d14725e024c9"
      },
      "source": [
        "We will use `fastai`'s `DataBlock` API to feed data into model training and validation."
      ]
    },
    {
      "cell_type": "code",
      "execution_count": null,
      "id": "1f713864",
      "metadata": {
        "id": "1f713864"
      },
      "outputs": [],
      "source": [
        "# assign paths\n",
        "df[\"image_fname\"] = [processed_dataset_dir/f'images/{f}' for f in df.File_Name.values]\n",
        "df[\"label_fname\"] = [label_func(f) for f in df.image_fname.values]"
      ]
    },
    {
      "cell_type": "code",
      "execution_count": null,
      "id": "4268334e",
      "metadata": {
        "id": "4268334e"
      },
      "outputs": [],
      "source": [
        "def get_data(df, bs=4, img_size=(180, 320), augment=True):\n",
        "    block = DataBlock(blocks=(ImageBlock, MaskBlock(codes=params.BDD_CLASSES)),\n",
        "                  get_x=ColReader(\"image_fname\"),\n",
        "                  get_y=ColReader(\"label_fname\"),\n",
        "                  splitter=ColSplitter(),\n",
        "                  item_tfms=Resize(img_size),\n",
        "                  batch_tfms=aug_transforms() if augment else None,\n",
        "                 )\n",
        "    return block.dataloaders(df, bs=bs)"
      ]
    },
    {
      "cell_type": "markdown",
      "id": "929f7975-ff29-4692-89b3-7f7596aecb0a",
      "metadata": {
        "id": "929f7975-ff29-4692-89b3-7f7596aecb0a"
      },
      "source": [
        "We are using `wandb.config` to track our training hyperparameters."
      ]
    },
    {
      "cell_type": "code",
      "execution_count": null,
      "id": "f214f2f1",
      "metadata": {
        "id": "f214f2f1"
      },
      "outputs": [],
      "source": [
        "config = wandb.config"
      ]
    },
    {
      "cell_type": "code",
      "execution_count": null,
      "id": "58544078",
      "metadata": {
        "id": "58544078"
      },
      "outputs": [],
      "source": [
        "dls = get_data(df, bs=config.batch_size, img_size=config.img_size, augment=config.augment)"
      ]
    },
    {
      "cell_type": "markdown",
      "id": "475d4e69-d8ec-4093-a8e4-0f09b0979887",
      "metadata": {
        "id": "475d4e69-d8ec-4093-a8e4-0f09b0979887"
      },
      "source": [
        "We will use *intersection over union* metrics: mean across all classes (MIOU) and IOU for each class separately. Our model will be a `unet` based on pretrained `resnet18` backbone."
      ]
    },
    {
      "cell_type": "code",
      "execution_count": null,
      "id": "a9fd4610",
      "metadata": {
        "id": "a9fd4610"
      },
      "outputs": [],
      "source": [
        "metrics = [MIOU(), BackgroundIOU(), RoadIOU(), TrafficLightIOU(), \\\n",
        "           TrafficSignIOU(), PersonIOU(), VehicleIOU(), BicycleIOU()]\n",
        "\n",
        "learn = unet_learner(dls, arch=resnet18, pretrained=config.pretrained, metrics=metrics)"
      ]
    },
    {
      "cell_type": "markdown",
      "id": "88d45330-cfc2-44e9-8c0c-5eee417050b1",
      "metadata": {
        "id": "88d45330-cfc2-44e9-8c0c-5eee417050b1"
      },
      "source": [
        "In `fastai` we already have a callback that integrates tightly with W&B, we only need to pass the `WandbCallback` to the learner and we are ready to go. The callback will log all the useful variables for us. For example, whatever metric we pass to the learner will be tracked by the callback."
      ]
    },
    {
      "cell_type": "code",
      "execution_count": null,
      "id": "87db7e5b",
      "metadata": {
        "id": "87db7e5b"
      },
      "outputs": [],
      "source": [
        "callbacks = [\n",
        "    SaveModelCallback(monitor='miou'),\n",
        "    WandbCallback(log_preds=False, log_model=True)\n",
        "]"
      ]
    },
    {
      "cell_type": "markdown",
      "id": "7dfe3c60-f4af-4e21-874d-13f119d03dd5",
      "metadata": {
        "id": "7dfe3c60-f4af-4e21-874d-13f119d03dd5"
      },
      "source": [
        "Let's train our model!"
      ]
    },
    {
      "cell_type": "code",
      "execution_count": null,
      "id": "a1846493",
      "metadata": {
        "id": "a1846493"
      },
      "outputs": [],
      "source": [
        "learn.fit_one_cycle(config.epochs, config.lr, cbs=callbacks)"
      ]
    },
    {
      "cell_type": "markdown",
      "id": "976ac11f-ad6c-4f9d-b2b0-6acb8d7af34a",
      "metadata": {
        "id": "976ac11f-ad6c-4f9d-b2b0-6acb8d7af34a"
      },
      "source": [
        "We will log a table with model predictions and ground truth to W&B, so that we can do error analysis in the W&B dashboard."
      ]
    },
    {
      "cell_type": "code",
      "execution_count": null,
      "id": "387dc2d8",
      "metadata": {
        "id": "387dc2d8"
      },
      "outputs": [],
      "source": [
        "samples, outputs, predictions = get_predictions(learn)\n",
        "table = create_iou_table(samples, outputs, predictions, params.BDD_CLASSES)\n",
        "wandb.log({\"pred_table\":table})"
      ]
    },
    {
      "cell_type": "markdown",
      "id": "b913a7ca-1250-4a61-a011-d333110bb927",
      "metadata": {
        "id": "b913a7ca-1250-4a61-a011-d333110bb927"
      },
      "source": [
        "We are reloading the model from the best checkpoint at the end and saving it. To make sure we track the final metrics correctly, we will validate the model again and save the final loss and metrics to `wandb.summary`."
      ]
    },
    {
      "cell_type": "code",
      "execution_count": null,
      "id": "d6ec120e",
      "metadata": {
        "id": "d6ec120e"
      },
      "outputs": [],
      "source": [
        "scores = learn.validate()\n",
        "metric_names = ['final_loss'] + [f'final_{x.name}' for x in metrics]\n",
        "final_results = {metric_names[i] : scores[i] for i in range(len(scores))}\n",
        "for k,v in final_results.items():\n",
        "    wandb.summary[k] = v"
      ]
    },
    {
      "cell_type": "code",
      "execution_count": null,
      "id": "53f86720",
      "metadata": {
        "id": "53f86720"
      },
      "outputs": [],
      "source": [
        "wandb.finish()"
      ]
    }
  ],
  "metadata": {
    "kernelspec": {
      "display_name": "Python 3",
      "language": "python",
      "name": "python3"
    },
    "language_info": {
      "name": "python",
      "version": "3.10.6 (main, Aug 30 2022, 04:58:14) [Clang 13.1.6 (clang-1316.0.21.2.5)]"
    },
    "vscode": {
      "interpreter": {
        "hash": "b0fa6594d8f4cbf19f97940f81e996739fb7646882a419484c72d19e05852a7e"
      }
    },
    "colab": {
      "provenance": []
    }
  },
  "nbformat": 4,
  "nbformat_minor": 5
}